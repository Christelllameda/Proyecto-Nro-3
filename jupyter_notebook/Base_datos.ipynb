{
 "cells": [
  {
   "cell_type": "code",
   "execution_count": 1,
   "id": "7cd3fafd",
   "metadata": {},
   "outputs": [],
   "source": [
    "#pip install pymongo"
   ]
  },
  {
   "cell_type": "code",
   "execution_count": 2,
   "id": "c524c0a5",
   "metadata": {},
   "outputs": [],
   "source": [
    "from pymongo import MongoClient\n",
    "import csv"
   ]
  },
  {
   "cell_type": "code",
   "execution_count": 3,
   "id": "82cfb824",
   "metadata": {},
   "outputs": [
    {
     "data": {
      "text/plain": [
       "MongoClient(host=['localhost:27017'], document_class=dict, tz_aware=False, connect=True)"
      ]
     },
     "execution_count": 3,
     "metadata": {},
     "output_type": "execute_result"
    }
   ],
   "source": [
    "str_conn = 'mongodb://localhost:27017'   # str_con por defecto\n",
    "\n",
    "cursor = MongoClient(str_conn)\n",
    "\n",
    "cursor"
   ]
  },
  {
   "cell_type": "markdown",
   "id": "6326f66d",
   "metadata": {},
   "source": [
    "### Luego de realizar la conexión, observamos las bases de datos que tenemos en mongo"
   ]
  },
  {
   "cell_type": "code",
   "execution_count": 4,
   "id": "2d852933",
   "metadata": {},
   "outputs": [
    {
     "data": {
      "text/plain": [
       "['admin', 'companies', 'config', 'local', 'obras_inconclusas']"
      ]
     },
     "execution_count": 4,
     "metadata": {},
     "output_type": "execute_result"
    }
   ],
   "source": [
    "cursor.list_database_names()"
   ]
  },
  {
   "cell_type": "markdown",
   "id": "763e5c78",
   "metadata": {},
   "source": [
    "### Creamos nuestra base de datos 'obras_inconclusas'"
   ]
  },
  {
   "cell_type": "code",
   "execution_count": 5,
   "id": "ff1a764e",
   "metadata": {},
   "outputs": [],
   "source": [
    "db = cursor.obras_inconclusas"
   ]
  },
  {
   "cell_type": "markdown",
   "id": "2285edd6",
   "metadata": {},
   "source": [
    "### Creamos una nueva colección 'obras_transporte'"
   ]
  },
  {
   "cell_type": "code",
   "execution_count": 6,
   "id": "85c1fb38",
   "metadata": {},
   "outputs": [],
   "source": [
    "collection = db[\"obras_transporte\"]"
   ]
  },
  {
   "cell_type": "markdown",
   "id": "b2b46d9d",
   "metadata": {},
   "source": [
    "### Para cargar los datos de nuestro archivo 'obras_transporte.csv' en la colección"
   ]
  },
  {
   "cell_type": "code",
   "execution_count": 7,
   "id": "cba369a9",
   "metadata": {},
   "outputs": [],
   "source": [
    "with open('/Users/christelllameda/ironhack/Proyecto-Nro-3/data/obras_transporte.csv', \"r\") as csv_file:\n",
    "    csv_reader = csv.DictReader(csv_file)\n",
    "\n",
    "    # Itera sobre las filas del archivo CSV e inserta cada fila como un documento en la colección\n",
    "    for row in csv_reader:\n",
    "        # Convierte cada fila en un diccionario\n",
    "        data = {}\n",
    "        for key, value in row.items():\n",
    "            data[key] = value\n",
    "\n",
    "        # Inserta el documento en la colección\n",
    "        collection.insert_one(data)"
   ]
  },
  {
   "cell_type": "markdown",
   "id": "7dbf2fdd",
   "metadata": {},
   "source": [
    "### Revisamos de nuevo la lista de bases de datos y vemos que se creó nuestra base de datos 'obras_inconclusas'"
   ]
  },
  {
   "cell_type": "code",
   "execution_count": 8,
   "id": "a8c9ac0f",
   "metadata": {},
   "outputs": [
    {
     "data": {
      "text/plain": [
       "['admin', 'companies', 'config', 'local', 'obras_inconclusas']"
      ]
     },
     "execution_count": 8,
     "metadata": {},
     "output_type": "execute_result"
    }
   ],
   "source": [
    "cursor.list_database_names()"
   ]
  },
  {
   "cell_type": "markdown",
   "id": "b796baec",
   "metadata": {},
   "source": [
    "### Hacemos el mismo procedimiento para la nueva colección 'obras_vialidad' "
   ]
  },
  {
   "cell_type": "code",
   "execution_count": 9,
   "id": "2169c6e2",
   "metadata": {},
   "outputs": [],
   "source": [
    "collection = db[\"obras_vialidad\"]"
   ]
  },
  {
   "cell_type": "code",
   "execution_count": 10,
   "id": "11913b09",
   "metadata": {},
   "outputs": [],
   "source": [
    "with open('/Users/christelllameda/ironhack/Proyecto-Nro-3/data/obras_vialidad.csv', \"r\") as csv_file:\n",
    "    csv_reader = csv.DictReader(csv_file)\n",
    "\n",
    "    # Itera sobre las filas del archivo CSV e inserta cada fila como un documento en la colección\n",
    "    for row in csv_reader:\n",
    "        # Convierte cada fila en un diccionario\n",
    "        data = {}\n",
    "        for key, value in row.items():\n",
    "            data[key] = value\n",
    "\n",
    "        # Inserta el documento en la colección\n",
    "        collection.insert_one(data)"
   ]
  },
  {
   "cell_type": "markdown",
   "id": "ef5e03f1",
   "metadata": {},
   "source": [
    "### Verificamos la lista de las colecciones de nuestra base de datos"
   ]
  },
  {
   "cell_type": "code",
   "execution_count": 11,
   "id": "6ec9672d",
   "metadata": {},
   "outputs": [
    {
     "data": {
      "text/plain": [
       "['obras_vialidad', 'obras_transporte']"
      ]
     },
     "execution_count": 11,
     "metadata": {},
     "output_type": "execute_result"
    }
   ],
   "source": [
    "db.list_collection_names()"
   ]
  },
  {
   "cell_type": "code",
   "execution_count": null,
   "id": "01a74c85",
   "metadata": {},
   "outputs": [],
   "source": []
  }
 ],
 "metadata": {
  "kernelspec": {
   "display_name": "Python 3 (ipykernel)",
   "language": "python",
   "name": "python3"
  },
  "language_info": {
   "codemirror_mode": {
    "name": "ipython",
    "version": 3
   },
   "file_extension": ".py",
   "mimetype": "text/x-python",
   "name": "python",
   "nbconvert_exporter": "python",
   "pygments_lexer": "ipython3",
   "version": "3.11.4"
  }
 },
 "nbformat": 4,
 "nbformat_minor": 5
}
