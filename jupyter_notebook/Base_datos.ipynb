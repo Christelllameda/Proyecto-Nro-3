{
 "cells": [
  {
   "cell_type": "code",
   "execution_count": 1,
   "id": "6d497197",
   "metadata": {},
   "outputs": [],
   "source": [
    "#pip install pymongo"
   ]
  },
  {
   "cell_type": "code",
   "execution_count": 15,
   "id": "e8dc23ab",
   "metadata": {},
   "outputs": [],
   "source": [
    "from pymongo import MongoClient\n",
    "import csv"
   ]
  },
  {
   "cell_type": "code",
   "execution_count": 16,
   "id": "8b3b3167",
   "metadata": {},
   "outputs": [
    {
     "data": {
      "text/plain": [
       "MongoClient(host=['localhost:27017'], document_class=dict, tz_aware=False, connect=True)"
      ]
     },
     "execution_count": 16,
     "metadata": {},
     "output_type": "execute_result"
    }
   ],
   "source": [
    "str_conn = 'mongodb://localhost:27017'   # str_con por defecto\n",
    "\n",
    "cursor = MongoClient(str_conn)\n",
    "\n",
    "cursor"
   ]
  },
  {
   "cell_type": "markdown",
   "id": "6f0a7e9d",
   "metadata": {},
   "source": [
    "### Luego de realizar la conexión, observamos las bases de datos que tenemos en mongo"
   ]
  },
  {
   "cell_type": "code",
   "execution_count": 17,
   "id": "d66b0da9",
   "metadata": {},
   "outputs": [
    {
     "data": {
      "text/plain": [
       "['admin', 'companies', 'config', 'local']"
      ]
     },
     "execution_count": 17,
     "metadata": {},
     "output_type": "execute_result"
    }
   ],
   "source": [
    "cursor.list_database_names()"
   ]
  },
  {
   "cell_type": "markdown",
   "id": "66e926d2",
   "metadata": {},
   "source": [
    "### Creamos nuestra base de datos 'obras_inconclusas'"
   ]
  },
  {
   "cell_type": "code",
   "execution_count": 18,
   "id": "661fb5c9",
   "metadata": {},
   "outputs": [],
   "source": [
    "db = cursor.obras_inconclusas"
   ]
  },
  {
   "cell_type": "markdown",
   "id": "f8d4d701",
   "metadata": {},
   "source": [
    "### Creamos una nueva colección 'obras_transporte'"
   ]
  },
  {
   "cell_type": "code",
   "execution_count": 34,
   "id": "6ca19b20",
   "metadata": {},
   "outputs": [],
   "source": [
    "collection = db[\"obras_transporte\"]"
   ]
  },
  {
   "cell_type": "markdown",
   "id": "04b3bb4c",
   "metadata": {},
   "source": [
    "### Para cargar los datos de nuestro archivo 'obras_transporte.csv' en la colección"
   ]
  },
  {
   "cell_type": "code",
   "execution_count": 35,
   "id": "5b74dc68",
   "metadata": {},
   "outputs": [],
   "source": [
    "with open('/Users/christelllameda/ironhack/Proyecto-Nro-3/data/obras_transporte.csv', \"r\") as csv_file:\n",
    "    csv_reader = csv.DictReader(csv_file)\n",
    "\n",
    "    # Itera sobre las filas del archivo CSV e inserta cada fila como un documento en la colección\n",
    "    for row in csv_reader:\n",
    "        # Convierte cada fila en un diccionario\n",
    "        data = {}\n",
    "        for key, value in row.items():\n",
    "            data[key] = value\n",
    "\n",
    "        # Inserta el documento en la colección\n",
    "        collection.insert_one(data)"
   ]
  },
  {
   "cell_type": "markdown",
   "id": "61288818",
   "metadata": {},
   "source": [
    "### Revisamos de nuevo la lista de bases de datos y vemos que se creó nuestra base de datos 'obras_inconclusas'"
   ]
  },
  {
   "cell_type": "code",
   "execution_count": 21,
   "id": "9844296c",
   "metadata": {},
   "outputs": [
    {
     "data": {
      "text/plain": [
       "['admin', 'companies', 'config', 'local', 'obras_inconclusas']"
      ]
     },
     "execution_count": 21,
     "metadata": {},
     "output_type": "execute_result"
    }
   ],
   "source": [
    "cursor.list_database_names()"
   ]
  },
  {
   "cell_type": "markdown",
   "id": "fcfd3245",
   "metadata": {},
   "source": [
    "### Hacemos el mismo procedimiento para la nueva colección 'obras_vialidad' "
   ]
  },
  {
   "cell_type": "code",
   "execution_count": 30,
   "id": "288c8391",
   "metadata": {},
   "outputs": [],
   "source": [
    "collection = db[\"obras_vialidad\"]"
   ]
  },
  {
   "cell_type": "code",
   "execution_count": 31,
   "id": "af2dd5e6",
   "metadata": {},
   "outputs": [],
   "source": [
    "with open('/Users/christelllameda/ironhack/Proyecto-Nro-3/data/obras_vialidad.csv', \"r\") as csv_file:\n",
    "    csv_reader = csv.DictReader(csv_file)\n",
    "\n",
    "    # Itera sobre las filas del archivo CSV e inserta cada fila como un documento en la colección\n",
    "    for row in csv_reader:\n",
    "        # Convierte cada fila en un diccionario\n",
    "        data = {}\n",
    "        for key, value in row.items():\n",
    "            data[key] = value\n",
    "\n",
    "        # Inserta el documento en la colección\n",
    "        collection.insert_one(data)"
   ]
  },
  {
   "cell_type": "markdown",
   "id": "a9959559",
   "metadata": {},
   "source": [
    "### Verificamos la lista de las colecciones de nuestra base de datos"
   ]
  },
  {
   "cell_type": "code",
   "execution_count": 11,
   "id": "e31f0da6",
   "metadata": {},
   "outputs": [
    {
     "data": {
      "text/plain": [
       "['obras_vialidad', 'obras_transporte']"
      ]
     },
     "execution_count": 11,
     "metadata": {},
     "output_type": "execute_result"
    }
   ],
   "source": [
    "db.list_collection_names()"
   ]
  },
  {
   "cell_type": "code",
   "execution_count": 25,
   "id": "ff96a0c5",
   "metadata": {},
   "outputs": [
    {
     "data": {
      "text/plain": [
       "[]"
      ]
     },
     "execution_count": 25,
     "metadata": {},
     "output_type": "execute_result"
    }
   ],
   "source": [
    "query = {'Valor total de la obra': {'$gte': 1000000}}\n",
    "\n",
    "\n",
    "list(collection.find(query))"
   ]
  },
  {
   "cell_type": "code",
   "execution_count": null,
   "id": "27656565",
   "metadata": {},
   "outputs": [],
   "source": []
  }
 ],
 "metadata": {
  "kernelspec": {
   "display_name": "Python 3 (ipykernel)",
   "language": "python",
   "name": "python3"
  },
  "language_info": {
   "codemirror_mode": {
    "name": "ipython",
    "version": 3
   },
   "file_extension": ".py",
   "mimetype": "text/x-python",
   "name": "python",
   "nbconvert_exporter": "python",
   "pygments_lexer": "ipython3",
   "version": "3.11.4"
  }
 },
 "nbformat": 4,
 "nbformat_minor": 5
}
