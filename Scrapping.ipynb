{
 "cells": [
  {
   "cell_type": "code",
   "execution_count": null,
   "id": "891642db",
   "metadata": {},
   "outputs": [],
   "source": [
    "#pip install nbimporter"
   ]
  },
  {
   "cell_type": "code",
   "execution_count": 36,
   "id": "a01977fd",
   "metadata": {},
   "outputs": [],
   "source": [
    "import pandas as pd\n",
    "from selenium.webdriver.chrome.options import Options\n",
    "from webdriver_manager.chrome import ChromeDriverManager\n",
    "from selenium import webdriver\n",
    "from selenium.webdriver.common.by import By"
   ]
  },
  {
   "cell_type": "code",
   "execution_count": 37,
   "id": "0ce297cb",
   "metadata": {},
   "outputs": [],
   "source": [
    "#driver configuration\n",
    "opciones=Options()\n",
    "opciones.add_experimental_option('excludeSwitches', ['enable-automation'])\n",
    "opciones.add_experimental_option('useAutomationExtension', False)\n",
    "opciones.headless=False    # si True, no aperece la ventana (headless=no visible)\n",
    "opciones.add_argument('--start-maximized')         # comienza maximizado\n",
    "#opciones.add_argument('user-data-dir=selenium')    # mantiene las cookies\n",
    "#opciones.add_extension('driver_folder/adblock.crx')       # adblocker\n",
    "opciones.add_argument('--incognito')"
   ]
  },
  {
   "cell_type": "code",
   "execution_count": 47,
   "id": "cab3e943",
   "metadata": {},
   "outputs": [],
   "source": [
    "from funciones import *"
   ]
  },
  {
   "cell_type": "code",
   "execution_count": 41,
   "id": "ebee9421",
   "metadata": {},
   "outputs": [],
   "source": [
    "url = 'https://transparenciave.org/obrasinconclusas/obras_inconclusas/ferrocarril-puerto-cabello-barquisimeto-rehabilitacion//'\n",
    "pto_cabello = obtener_datos_obra(url)"
   ]
  },
  {
   "cell_type": "code",
   "execution_count": 40,
   "id": "7416d40b",
   "metadata": {},
   "outputs": [],
   "source": [
    "columnas = ['Obra','Status','Ejecución física','Ejecución financiera','Estado','Municipio','Dirección','Personas afectadas','Ente responsable','Funcionario responsable','Empresa contratista','Valor total de la obra','Obra financiada por FONDEN','Monto comprometido','Fecha estimada de inicio','Fecha real de inicio','Fecha culminación estimada de la obra','Fecha de paralización']"
   ]
  },
  {
   "cell_type": "code",
   "execution_count": 42,
   "id": "1083b1be",
   "metadata": {},
   "outputs": [
    {
     "data": {
      "text/html": [
       "<div>\n",
       "<style scoped>\n",
       "    .dataframe tbody tr th:only-of-type {\n",
       "        vertical-align: middle;\n",
       "    }\n",
       "\n",
       "    .dataframe tbody tr th {\n",
       "        vertical-align: top;\n",
       "    }\n",
       "\n",
       "    .dataframe thead th {\n",
       "        text-align: right;\n",
       "    }\n",
       "</style>\n",
       "<table border=\"1\" class=\"dataframe\">\n",
       "  <thead>\n",
       "    <tr style=\"text-align: right;\">\n",
       "      <th></th>\n",
       "      <th>Obra</th>\n",
       "      <th>Status</th>\n",
       "      <th>Ejecución física</th>\n",
       "      <th>Ejecución financiera</th>\n",
       "      <th>Estado</th>\n",
       "      <th>Municipio</th>\n",
       "      <th>Dirección</th>\n",
       "      <th>Personas afectadas</th>\n",
       "      <th>Ente responsable</th>\n",
       "      <th>Funcionario responsable</th>\n",
       "      <th>Empresa contratista</th>\n",
       "      <th>Valor total de la obra</th>\n",
       "      <th>Obra financiada por FONDEN</th>\n",
       "      <th>Monto comprometido</th>\n",
       "      <th>Fecha estimada de inicio</th>\n",
       "      <th>Fecha real de inicio</th>\n",
       "      <th>Fecha culminación estimada de la obra</th>\n",
       "      <th>Fecha de paralización</th>\n",
       "    </tr>\n",
       "  </thead>\n",
       "  <tbody>\n",
       "    <tr>\n",
       "      <th>0</th>\n",
       "      <td>FERROCARRIL PUERTO CABELLO – BARQUISIMETO (REH...</td>\n",
       "      <td>Con recursos desembolsados - no iniciada</td>\n",
       "      <td>85%</td>\n",
       "      <td>S/I</td>\n",
       "      <td>Estado Carabobo</td>\n",
       "      <td>Puerto Cabello/ Iribarren</td>\n",
       "      <td>S/I</td>\n",
       "      <td>Más de 1.000.001</td>\n",
       "      <td>Instituto de Ferrocarriles del Estado (IFE)</td>\n",
       "      <td>S/I</td>\n",
       "      <td>Yankuang Group Corporation LTD/ Ferroviaria La...</td>\n",
       "      <td>USD S/I</td>\n",
       "      <td>Si</td>\n",
       "      <td>USD 268.120.235,7</td>\n",
       "      <td>2004</td>\n",
       "      <td>S/I</td>\n",
       "      <td>2008</td>\n",
       "      <td>S/I</td>\n",
       "    </tr>\n",
       "  </tbody>\n",
       "</table>\n",
       "</div>"
      ],
      "text/plain": [
       "                                                Obra  \\\n",
       "0  FERROCARRIL PUERTO CABELLO – BARQUISIMETO (REH...   \n",
       "\n",
       "                                     Status Ejecución física  \\\n",
       "0  Con recursos desembolsados - no iniciada              85%   \n",
       "\n",
       "  Ejecución financiera           Estado                  Municipio Dirección  \\\n",
       "0                  S/I  Estado Carabobo  Puerto Cabello/ Iribarren       S/I   \n",
       "\n",
       "  Personas afectadas                             Ente responsable  \\\n",
       "0   Más de 1.000.001  Instituto de Ferrocarriles del Estado (IFE)   \n",
       "\n",
       "  Funcionario responsable                                Empresa contratista  \\\n",
       "0                     S/I  Yankuang Group Corporation LTD/ Ferroviaria La...   \n",
       "\n",
       "  Valor total de la obra Obra financiada por FONDEN Monto comprometido  \\\n",
       "0                USD S/I                         Si  USD 268.120.235,7   \n",
       "\n",
       "  Fecha estimada de inicio Fecha real de inicio  \\\n",
       "0                     2004                  S/I   \n",
       "\n",
       "  Fecha culminación estimada de la obra Fecha de paralización  \n",
       "0                                  2008                   S/I  "
      ]
     },
     "execution_count": 42,
     "metadata": {},
     "output_type": "execute_result"
    }
   ],
   "source": [
    "df = pd.DataFrame([pto_cabello], columns=columnas)\n",
    "df"
   ]
  },
  {
   "cell_type": "code",
   "execution_count": 43,
   "id": "807dba72",
   "metadata": {},
   "outputs": [],
   "source": [
    "url2 = 'https://transparenciave.org/obrasinconclusas/obras_inconclusas/cabletren-bolivariano-de-petare/'\n",
    "petare = obtener_datos_obra(url2)"
   ]
  },
  {
   "cell_type": "code",
   "execution_count": 46,
   "id": "c0c30c1a",
   "metadata": {},
   "outputs": [],
   "source": [
    "df2 = crear_dataframe(petare, columnas)"
   ]
  },
  {
   "cell_type": "code",
   "execution_count": 45,
   "id": "d2e1e5b5",
   "metadata": {},
   "outputs": [
    {
     "data": {
      "text/html": [
       "<div>\n",
       "<style scoped>\n",
       "    .dataframe tbody tr th:only-of-type {\n",
       "        vertical-align: middle;\n",
       "    }\n",
       "\n",
       "    .dataframe tbody tr th {\n",
       "        vertical-align: top;\n",
       "    }\n",
       "\n",
       "    .dataframe thead th {\n",
       "        text-align: right;\n",
       "    }\n",
       "</style>\n",
       "<table border=\"1\" class=\"dataframe\">\n",
       "  <thead>\n",
       "    <tr style=\"text-align: right;\">\n",
       "      <th></th>\n",
       "      <th>Obra</th>\n",
       "      <th>Status</th>\n",
       "      <th>Ejecución física</th>\n",
       "      <th>Ejecución financiera</th>\n",
       "      <th>Estado</th>\n",
       "      <th>Municipio</th>\n",
       "      <th>Dirección</th>\n",
       "      <th>Personas afectadas</th>\n",
       "      <th>Ente responsable</th>\n",
       "      <th>Funcionario responsable</th>\n",
       "      <th>Empresa contratista</th>\n",
       "      <th>Valor total de la obra</th>\n",
       "      <th>Obra financiada por FONDEN</th>\n",
       "      <th>Monto comprometido</th>\n",
       "      <th>Fecha estimada de inicio</th>\n",
       "      <th>Fecha real de inicio</th>\n",
       "      <th>Fecha culminación estimada de la obra</th>\n",
       "      <th>Fecha de paralización</th>\n",
       "    </tr>\n",
       "  </thead>\n",
       "  <tbody>\n",
       "    <tr>\n",
       "      <th>0</th>\n",
       "      <td>FERROCARRIL PUERTO CABELLO – BARQUISIMETO (REH...</td>\n",
       "      <td>Con recursos desembolsados - no iniciada</td>\n",
       "      <td>85%</td>\n",
       "      <td>S/I</td>\n",
       "      <td>Estado Carabobo</td>\n",
       "      <td>Puerto Cabello/ Iribarren</td>\n",
       "      <td>S/I</td>\n",
       "      <td>Más de 1.000.001</td>\n",
       "      <td>Instituto de Ferrocarriles del Estado (IFE)</td>\n",
       "      <td>S/I</td>\n",
       "      <td>Yankuang Group Corporation LTD/ Ferroviaria La...</td>\n",
       "      <td>USD S/I</td>\n",
       "      <td>Si</td>\n",
       "      <td>USD 268.120.235,7</td>\n",
       "      <td>2004</td>\n",
       "      <td>S/I</td>\n",
       "      <td>2008</td>\n",
       "      <td>S/I</td>\n",
       "    </tr>\n",
       "    <tr>\n",
       "      <th>1</th>\n",
       "      <td>CABLETRÉN BOLIVARIANO DE PETARE</td>\n",
       "      <td>Paralizada</td>\n",
       "      <td>29%</td>\n",
       "      <td>S/I</td>\n",
       "      <td>Área Metropolitana de Caracas</td>\n",
       "      <td>Sucre</td>\n",
       "      <td>F5MW+493, Caracas 1073, Distrito Capital</td>\n",
       "      <td>Entre 100.001 y 1.000.000</td>\n",
       "      <td>S/I</td>\n",
       "      <td>S/I</td>\n",
       "      <td>Constructora Norberto Odebrecht, C.A.</td>\n",
       "      <td>USD 32.558.140</td>\n",
       "      <td>Si</td>\n",
       "      <td>USD  92.000.000,00</td>\n",
       "      <td>S/I</td>\n",
       "      <td>2008</td>\n",
       "      <td>1era 28/02/2015 2da 2019</td>\n",
       "      <td>S/I</td>\n",
       "    </tr>\n",
       "  </tbody>\n",
       "</table>\n",
       "</div>"
      ],
      "text/plain": [
       "                                                Obra  \\\n",
       "0  FERROCARRIL PUERTO CABELLO – BARQUISIMETO (REH...   \n",
       "1                    CABLETRÉN BOLIVARIANO DE PETARE   \n",
       "\n",
       "                                     Status Ejecución física  \\\n",
       "0  Con recursos desembolsados - no iniciada              85%   \n",
       "1                                Paralizada              29%   \n",
       "\n",
       "  Ejecución financiera                         Estado  \\\n",
       "0                  S/I                Estado Carabobo   \n",
       "1                  S/I  Área Metropolitana de Caracas   \n",
       "\n",
       "                   Municipio                                 Dirección  \\\n",
       "0  Puerto Cabello/ Iribarren                                       S/I   \n",
       "1                      Sucre  F5MW+493, Caracas 1073, Distrito Capital   \n",
       "\n",
       "          Personas afectadas                             Ente responsable  \\\n",
       "0           Más de 1.000.001  Instituto de Ferrocarriles del Estado (IFE)   \n",
       "1  Entre 100.001 y 1.000.000                                          S/I   \n",
       "\n",
       "  Funcionario responsable                                Empresa contratista  \\\n",
       "0                     S/I  Yankuang Group Corporation LTD/ Ferroviaria La...   \n",
       "1                     S/I              Constructora Norberto Odebrecht, C.A.   \n",
       "\n",
       "  Valor total de la obra Obra financiada por FONDEN  Monto comprometido  \\\n",
       "0                USD S/I                         Si   USD 268.120.235,7   \n",
       "1         USD 32.558.140                         Si  USD  92.000.000,00   \n",
       "\n",
       "  Fecha estimada de inicio Fecha real de inicio  \\\n",
       "0                     2004                  S/I   \n",
       "1                      S/I                 2008   \n",
       "\n",
       "  Fecha culminación estimada de la obra Fecha de paralización  \n",
       "0                                  2008                   S/I  \n",
       "1              1era 28/02/2015 2da 2019                   S/I  "
      ]
     },
     "execution_count": 45,
     "metadata": {},
     "output_type": "execute_result"
    }
   ],
   "source": [
    "# Concatena los DataFrames en uno solo\n",
    "df = pd.concat([df, df2],ignore_index=True)\n",
    "df"
   ]
  },
  {
   "cell_type": "code",
   "execution_count": null,
   "id": "88eabe22",
   "metadata": {},
   "outputs": [],
   "source": []
  }
 ],
 "metadata": {
  "kernelspec": {
   "display_name": "Python 3 (ipykernel)",
   "language": "python",
   "name": "python3"
  },
  "language_info": {
   "codemirror_mode": {
    "name": "ipython",
    "version": 3
   },
   "file_extension": ".py",
   "mimetype": "text/x-python",
   "name": "python",
   "nbconvert_exporter": "python",
   "pygments_lexer": "ipython3",
   "version": "3.11.4"
  }
 },
 "nbformat": 4,
 "nbformat_minor": 5
}
